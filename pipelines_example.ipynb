{
 "cells": [
  {
   "cell_type": "code",
   "execution_count": null,
   "metadata": {},
   "outputs": [],
   "source": [
    "from sklearn.pipeline import Pipeline\n",
    "from sklearn.compose import ColumnTransformer\n",
    "from sklearn.impute import SimpleImputer\n",
    "from sklearn.preprocessing import StandardScaler, OneHotEncoder\n",
    "\n",
    "from encoders import InfrequentEncoder, OutlierEncoder"
   ]
  },
  {
   "cell_type": "code",
   "execution_count": null,
   "metadata": {},
   "outputs": [],
   "source": [
    "numeric_transformer = Pipeline(\n",
    "    [\n",
    "        ('impute', SimpleImputer(strategy='median')),\n",
    "        ('remove_outliers', OutlierEncoder()),\n",
    "        ('standarize', StandardScaler())\n",
    "    ]\n",
    ")"
   ]
  },
  {
   "cell_type": "code",
   "execution_count": null,
   "metadata": {},
   "outputs": [],
   "source": [
    "onehot_cols = ['make', 'model', 'gearbox', 'fuel_type']\n",
    "binary_cols = ['rhd', 'damaged']"
   ]
  },
  {
   "cell_type": "code",
   "execution_count": null,
   "metadata": {},
   "outputs": [],
   "source": [
    "onehot_transformer = Pipeline(\n",
    "    [\n",
    "        ('impute', SimpleImputer(strategy='constant', fill_value='Other')),\n",
    "        ('encode_infequent', InfrequentEncoder(min_frequency=100, col_names=onehot_cols)),\n",
    "        ('one_hot', OneHotEncoder(handle_unknown='ignore'))\n",
    "    ]\n",
    ")"
   ]
  },
  {
   "cell_type": "code",
   "execution_count": null,
   "metadata": {},
   "outputs": [],
   "source": [
    "categorical_transformer = ColumnTransformer(\n",
    "    [\n",
    "        ('one_hot', onehot_transformer, onehot_cols),\n",
    "        ('binary', 'passthrough', binary_cols)\n",
    "    ]\n",
    ")"
   ]
  },
  {
   "cell_type": "code",
   "execution_count": null,
   "metadata": {},
   "outputs": [],
   "source": [
    "prepocessor = ColumnTransformer(\n",
    "    [\n",
    "        ('num', numeric_transformer, numeric_columns),\n",
    "        ('cat', categorical_transformer, categorical_columns)\n",
    "    ]\n",
    ")"
   ]
  },
  {
   "cell_type": "code",
   "execution_count": null,
   "metadata": {},
   "outputs": [],
   "source": [
    "prepocessor.fit_transform()"
   ]
  }
 ],
 "metadata": {
  "language_info": {
   "name": "python"
  },
  "orig_nbformat": 4
 },
 "nbformat": 4,
 "nbformat_minor": 2
}
