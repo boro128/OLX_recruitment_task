{
 "cells": [
  {
   "cell_type": "code",
   "execution_count": 3,
   "metadata": {},
   "outputs": [],
   "source": [
    "import pandas as pd\n",
    "import numpy as np\n",
    "import matplotlib.pyplot as plt\n",
    "import seaborn as sns\n",
    "import missingno as msno\n",
    "import joblib\n",
    "import shap\n",
    "\n",
    "from sklearn.model_selection import train_test_split, cross_val_score, RandomizedSearchCV\n",
    "from sklearn.impute import SimpleImputer\n",
    "from sklearn.preprocessing import OneHotEncoder, StandardScaler\n",
    "\n",
    "from sklearn.linear_model import LinearRegression\n",
    "from sklearn.tree import DecisionTreeRegressor\n",
    "from sklearn.ensemble import RandomForestRegressor\n",
    "\n",
    "from encoders import InfrequentEncoder, OutlierEncoder\n",
    "from utils import print_metrics, print_cross_val_summary\n",
    "\n",
    "sns.set()"
   ]
  },
  {
   "cell_type": "code",
   "execution_count": 4,
   "metadata": {},
   "outputs": [
    {
     "data": {
      "text/html": [
       "<div>\n",
       "<style scoped>\n",
       "    .dataframe tbody tr th:only-of-type {\n",
       "        vertical-align: middle;\n",
       "    }\n",
       "\n",
       "    .dataframe tbody tr th {\n",
       "        vertical-align: top;\n",
       "    }\n",
       "\n",
       "    .dataframe thead th {\n",
       "        text-align: right;\n",
       "    }\n",
       "</style>\n",
       "<table border=\"1\" class=\"dataframe\">\n",
       "  <thead>\n",
       "    <tr style=\"text-align: right;\">\n",
       "      <th></th>\n",
       "      <th>make</th>\n",
       "      <th>model</th>\n",
       "      <th>vehicle_year</th>\n",
       "      <th>mileage</th>\n",
       "      <th>engine_capacity</th>\n",
       "      <th>engine_power</th>\n",
       "      <th>gearbox</th>\n",
       "      <th>fuel_type</th>\n",
       "      <th>damaged</th>\n",
       "      <th>rhd</th>\n",
       "      <th>target_price</th>\n",
       "    </tr>\n",
       "  </thead>\n",
       "  <tbody>\n",
       "    <tr>\n",
       "      <th>0</th>\n",
       "      <td>audi</td>\n",
       "      <td>a6</td>\n",
       "      <td>2013.0</td>\n",
       "      <td>153817.0</td>\n",
       "      <td>1984.0</td>\n",
       "      <td>180.0</td>\n",
       "      <td>automatic</td>\n",
       "      <td>petrol</td>\n",
       "      <td>0.0</td>\n",
       "      <td>0.0</td>\n",
       "      <td>69900.0</td>\n",
       "    </tr>\n",
       "    <tr>\n",
       "      <th>1</th>\n",
       "      <td>skoda</td>\n",
       "      <td>fabia</td>\n",
       "      <td>2004.0</td>\n",
       "      <td>115000.0</td>\n",
       "      <td>1390.0</td>\n",
       "      <td>75.0</td>\n",
       "      <td>manual</td>\n",
       "      <td>petrol</td>\n",
       "      <td>0.0</td>\n",
       "      <td>0.0</td>\n",
       "      <td>8299.0</td>\n",
       "    </tr>\n",
       "    <tr>\n",
       "      <th>2</th>\n",
       "      <td>chevrolet</td>\n",
       "      <td>camaro</td>\n",
       "      <td>2012.0</td>\n",
       "      <td>299000.0</td>\n",
       "      <td>3600.0</td>\n",
       "      <td>323.0</td>\n",
       "      <td>automatic</td>\n",
       "      <td>petrol</td>\n",
       "      <td>0.0</td>\n",
       "      <td>0.0</td>\n",
       "      <td>54500.0</td>\n",
       "    </tr>\n",
       "    <tr>\n",
       "      <th>3</th>\n",
       "      <td>bmw</td>\n",
       "      <td>seria-3</td>\n",
       "      <td>2013.0</td>\n",
       "      <td>155000.0</td>\n",
       "      <td>1995.0</td>\n",
       "      <td>163.0</td>\n",
       "      <td>automatic</td>\n",
       "      <td>diesel</td>\n",
       "      <td>0.0</td>\n",
       "      <td>0.0</td>\n",
       "      <td>62000.0</td>\n",
       "    </tr>\n",
       "    <tr>\n",
       "      <th>4</th>\n",
       "      <td>renault</td>\n",
       "      <td>talisman</td>\n",
       "      <td>2017.0</td>\n",
       "      <td>167000.0</td>\n",
       "      <td>1600.0</td>\n",
       "      <td>130.0</td>\n",
       "      <td>automatic</td>\n",
       "      <td>diesel</td>\n",
       "      <td>0.0</td>\n",
       "      <td>0.0</td>\n",
       "      <td>52999.0</td>\n",
       "    </tr>\n",
       "  </tbody>\n",
       "</table>\n",
       "</div>"
      ],
      "text/plain": [
       "        make     model  vehicle_year   mileage  engine_capacity  engine_power  \\\n",
       "0       audi        a6        2013.0  153817.0           1984.0         180.0   \n",
       "1      skoda     fabia        2004.0  115000.0           1390.0          75.0   \n",
       "2  chevrolet    camaro        2012.0  299000.0           3600.0         323.0   \n",
       "3        bmw   seria-3        2013.0  155000.0           1995.0         163.0   \n",
       "4    renault  talisman        2017.0  167000.0           1600.0         130.0   \n",
       "\n",
       "     gearbox fuel_type  damaged  rhd  target_price  \n",
       "0  automatic    petrol      0.0  0.0       69900.0  \n",
       "1     manual    petrol      0.0  0.0        8299.0  \n",
       "2  automatic    petrol      0.0  0.0       54500.0  \n",
       "3  automatic    diesel      0.0  0.0       62000.0  \n",
       "4  automatic    diesel      0.0  0.0       52999.0  "
      ]
     },
     "execution_count": 4,
     "metadata": {},
     "output_type": "execute_result"
    }
   ],
   "source": [
    "df = pd.read_csv('data/otomoto_dataset.csv')\n",
    "df.head()"
   ]
  },
  {
   "cell_type": "markdown",
   "metadata": {},
   "source": [
    "## Zapoznanie się ze zbiorem danych i wykrycie ewentualnych anomalii"
   ]
  },
  {
   "cell_type": "code",
   "execution_count": 5,
   "metadata": {},
   "outputs": [
    {
     "data": {
      "text/plain": [
       "(206860, 11)"
      ]
     },
     "execution_count": 5,
     "metadata": {},
     "output_type": "execute_result"
    }
   ],
   "source": [
    "df.shape"
   ]
  },
  {
   "cell_type": "code",
   "execution_count": 6,
   "metadata": {},
   "outputs": [
    {
     "name": "stdout",
     "output_type": "stream",
     "text": [
      "<class 'pandas.core.frame.DataFrame'>\n",
      "RangeIndex: 206860 entries, 0 to 206859\n",
      "Data columns (total 11 columns):\n",
      " #   Column           Non-Null Count   Dtype  \n",
      "---  ------           --------------   -----  \n",
      " 0   make             206860 non-null  object \n",
      " 1   model            206860 non-null  object \n",
      " 2   vehicle_year     206860 non-null  float64\n",
      " 3   mileage          205506 non-null  float64\n",
      " 4   engine_capacity  204662 non-null  float64\n",
      " 5   engine_power     205262 non-null  float64\n",
      " 6   gearbox          205466 non-null  object \n",
      " 7   fuel_type        206860 non-null  object \n",
      " 8   damaged          206860 non-null  float64\n",
      " 9   rhd              206860 non-null  float64\n",
      " 10  target_price     206860 non-null  float64\n",
      "dtypes: float64(7), object(4)\n",
      "memory usage: 17.4+ MB\n"
     ]
    }
   ],
   "source": [
    "df.info()"
   ]
  },
  {
   "cell_type": "code",
   "execution_count": 7,
   "metadata": {},
   "outputs": [
    {
     "data": {
      "text/plain": [
       "make                  0\n",
       "model                 0\n",
       "vehicle_year          0\n",
       "mileage            1354\n",
       "engine_capacity    2198\n",
       "engine_power       1598\n",
       "gearbox            1394\n",
       "fuel_type             0\n",
       "damaged               0\n",
       "rhd                   0\n",
       "target_price          0\n",
       "dtype: int64"
      ]
     },
     "execution_count": 7,
     "metadata": {},
     "output_type": "execute_result"
    }
   ],
   "source": [
    "df.isnull().sum()"
   ]
  },
  {
   "cell_type": "code",
   "execution_count": 8,
   "metadata": {},
   "outputs": [
    {
     "data": {
      "image/png": "[encoded data removed]",
      "text/plain": [
       "<Figure size 1800x720 with 2 Axes>"
      ]
     },
     "metadata": {},
     "output_type": "display_data"
    }
   ],
   "source": [
    "msno.matrix(df)\n",
    "plt.show()"
   ]
  },
  {
   "cell_type": "markdown",
   "metadata": {},
   "source": [
    "Wiersze zazwyczaj nie zawierają brakujących danych we wszystkich kolumnach, w których występują braki."
   ]
  },
  {
   "cell_type": "code",
   "execution_count": 9,
   "metadata": {},
   "outputs": [
    {
     "data": {
      "text/plain": [
       "4939"
      ]
     },
     "execution_count": 9,
     "metadata": {},
     "output_type": "execute_result"
    }
   ],
   "source": [
    "sum(df.duplicated())"
   ]
  },
  {
   "cell_type": "markdown",
   "metadata": {},
   "source": [
    "Występują powtarzające się rekordy"
   ]
  },
  {
   "cell_type": "code",
   "execution_count": 10,
   "metadata": {},
   "outputs": [],
   "source": [
    "df = df.drop_duplicates()"
   ]
  },
  {
   "cell_type": "code",
   "execution_count": 11,
   "metadata": {},
   "outputs": [
    {
     "data": {
      "text/plain": [
       "0"
      ]
     },
     "execution_count": 11,
     "metadata": {},
     "output_type": "execute_result"
    }
   ],
   "source": [
    "df[(\n",
    "    (df['target_price'] < 0) |\n",
    "    (df['mileage'] < 0) |\n",
    "    (df['vehicle_year'] < 1900) |\n",
    "    (df['engine_capacity'] < 0) |\n",
    "    (df['engine_power'] < 0)\n",
    "    )].size"
   ]
  },
  {
   "cell_type": "markdown",
   "metadata": {},
   "source": [
    "Brak błędnych wartości w danych"
   ]
  },
  {
   "cell_type": "markdown",
   "metadata": {},
   "source": [
    "## EDA"
   ]
  },
  {
   "cell_type": "markdown",
   "metadata": {},
   "source": [
    "### Podział na zbiory treningowe i testowe"
   ]
  },
  {
   "cell_type": "code",
   "execution_count": 12,
   "metadata": {},
   "outputs": [],
   "source": [
    "train_df, test_df = train_test_split(df, test_size=0.3, random_state=128)"
   ]
  },
  {
   "cell_type": "code",
   "execution_count": 13,
   "metadata": {},
   "outputs": [],
   "source": [
    "train_df = train_df.reset_index().drop(columns=['index'])\n",
    "test_df = test_df.reset_index().drop(columns=['index'])"
   ]
  },
  {
   "cell_type": "code",
   "execution_count": 14,
   "metadata": {},
   "outputs": [
    {
     "data": {
      "text/html": [
       "<div>\n",
       "<style scoped>\n",
       "    .dataframe tbody tr th:only-of-type {\n",
       "        vertical-align: middle;\n",
       "    }\n",
       "\n",
       "    .dataframe tbody tr th {\n",
       "        vertical-align: top;\n",
       "    }\n",
       "\n",
       "    .dataframe thead th {\n",
       "        text-align: right;\n",
       "    }\n",
       "</style>\n",
       "<table border=\"1\" class=\"dataframe\">\n",
       "  <thead>\n",
       "    <tr style=\"text-align: right;\">\n",
       "      <th></th>\n",
       "      <th>vehicle_year</th>\n",
       "      <th>mileage</th>\n",
       "      <th>engine_capacity</th>\n",
       "      <th>engine_power</th>\n",
       "      <th>damaged</th>\n",
       "      <th>rhd</th>\n",
       "      <th>target_price</th>\n",
       "    </tr>\n",
       "  </thead>\n",
       "  <tbody>\n",
       "    <tr>\n",
       "      <th>count</th>\n",
       "      <td>141344.000000</td>\n",
       "      <td>1.405280e+05</td>\n",
       "      <td>139836.000000</td>\n",
       "      <td>140251.000000</td>\n",
       "      <td>141344.000000</td>\n",
       "      <td>141344.000000</td>\n",
       "      <td>1.413440e+05</td>\n",
       "    </tr>\n",
       "    <tr>\n",
       "      <th>mean</th>\n",
       "      <td>2012.121965</td>\n",
       "      <td>1.420721e+05</td>\n",
       "      <td>1868.236684</td>\n",
       "      <td>150.902318</td>\n",
       "      <td>0.039223</td>\n",
       "      <td>0.003290</td>\n",
       "      <td>6.080006e+04</td>\n",
       "    </tr>\n",
       "    <tr>\n",
       "      <th>std</th>\n",
       "      <td>6.449750</td>\n",
       "      <td>1.546583e+06</td>\n",
       "      <td>707.933493</td>\n",
       "      <td>76.712719</td>\n",
       "      <td>0.194127</td>\n",
       "      <td>0.057263</td>\n",
       "      <td>8.383108e+04</td>\n",
       "    </tr>\n",
       "    <tr>\n",
       "      <th>min</th>\n",
       "      <td>1917.000000</td>\n",
       "      <td>1.000000e+00</td>\n",
       "      <td>400.000000</td>\n",
       "      <td>1.000000</td>\n",
       "      <td>0.000000</td>\n",
       "      <td>0.000000</td>\n",
       "      <td>6.000000e+02</td>\n",
       "    </tr>\n",
       "    <tr>\n",
       "      <th>25%</th>\n",
       "      <td>2008.000000</td>\n",
       "      <td>5.130775e+04</td>\n",
       "      <td>1461.000000</td>\n",
       "      <td>105.000000</td>\n",
       "      <td>0.000000</td>\n",
       "      <td>0.000000</td>\n",
       "      <td>1.790000e+04</td>\n",
       "    </tr>\n",
       "    <tr>\n",
       "      <th>50%</th>\n",
       "      <td>2013.000000</td>\n",
       "      <td>1.402180e+05</td>\n",
       "      <td>1798.000000</td>\n",
       "      <td>136.000000</td>\n",
       "      <td>0.000000</td>\n",
       "      <td>0.000000</td>\n",
       "      <td>3.490000e+04</td>\n",
       "    </tr>\n",
       "    <tr>\n",
       "      <th>75%</th>\n",
       "      <td>2017.000000</td>\n",
       "      <td>2.000000e+05</td>\n",
       "      <td>1997.000000</td>\n",
       "      <td>170.000000</td>\n",
       "      <td>0.000000</td>\n",
       "      <td>0.000000</td>\n",
       "      <td>7.190000e+04</td>\n",
       "    </tr>\n",
       "    <tr>\n",
       "      <th>max</th>\n",
       "      <td>2021.000000</td>\n",
       "      <td>5.000000e+08</td>\n",
       "      <td>8285.000000</td>\n",
       "      <td>1500.000000</td>\n",
       "      <td>1.000000</td>\n",
       "      <td>1.000000</td>\n",
       "      <td>5.250000e+06</td>\n",
       "    </tr>\n",
       "  </tbody>\n",
       "</table>\n",
       "</div>"
      ],
      "text/plain": [
       "        vehicle_year       mileage  engine_capacity   engine_power  \\\n",
       "count  141344.000000  1.405280e+05    139836.000000  140251.000000   \n",
       "mean     2012.121965  1.420721e+05      1868.236684     150.902318   \n",
       "std         6.449750  1.546583e+06       707.933493      76.712719   \n",
       "min      1917.000000  1.000000e+00       400.000000       1.000000   \n",
       "25%      2008.000000  5.130775e+04      1461.000000     105.000000   \n",
       "50%      2013.000000  1.402180e+05      1798.000000     136.000000   \n",
       "75%      2017.000000  2.000000e+05      1997.000000     170.000000   \n",
       "max      2021.000000  5.000000e+08      8285.000000    1500.000000   \n",
       "\n",
       "             damaged            rhd  target_price  \n",
       "count  141344.000000  141344.000000  1.413440e+05  \n",
       "mean        0.039223       0.003290  6.080006e+04  \n",
       "std         0.194127       0.057263  8.383108e+04  \n",
       "min         0.000000       0.000000  6.000000e+02  \n",
       "25%         0.000000       0.000000  1.790000e+04  \n",
       "50%         0.000000       0.000000  3.490000e+04  \n",
       "75%         0.000000       0.000000  7.190000e+04  \n",
       "max         1.000000       1.000000  5.250000e+06  "
      ]
     },
     "execution_count": 14,
     "metadata": {},
     "output_type": "execute_result"
    }
   ],
   "source": [
    "train_df.describe()"
   ]
  },
  {
   "cell_type": "code",
   "execution_count": 15,
   "metadata": {},
   "outputs": [
    {
     "data": {
      "text/plain": [
       "['vehicle_year',\n",
       " 'mileage',\n",
       " 'engine_capacity',\n",
       " 'engine_power',\n",
       " 'damaged',\n",
       " 'rhd']"
      ]
     },
     "execution_count": 15,
     "metadata": {},
     "output_type": "execute_result"
    }
   ],
   "source": [
    "numeric_columns = train_df.select_dtypes('number').columns.to_list()\n",
    "numeric_columns.remove('target_price') # zmienną celu zajmiemy się osobno \n",
    "numeric_columns"
   ]
  },
  {
   "cell_type": "code",
   "execution_count": 16,
   "metadata": {},
   "outputs": [
    {
     "data": {
      "text/plain": [
       "array([0., 1.])"
      ]
     },
     "execution_count": 16,
     "metadata": {},
     "output_type": "execute_result"
    }
   ],
   "source": [
    "train_df['rhd'].unique()"
   ]
  },
  {
   "cell_type": "code",
   "execution_count": 17,
   "metadata": {},
   "outputs": [
    {
     "data": {
      "text/plain": [
       "array([0., 1.])"
      ]
     },
     "execution_count": 17,
     "metadata": {},
     "output_type": "execute_result"
    }
   ],
   "source": [
    "train_df['damaged'].unique()"
   ]
  },
  {
   "cell_type": "markdown",
   "metadata": {},
   "source": [
    "Zmienne `rhd` i `damaged` to tak naprawdę zmienne kategoryczne"
   ]
  },
  {
   "cell_type": "code",
   "execution_count": 18,
   "metadata": {},
   "outputs": [],
   "source": [
    "numeric_columns = [e for e in numeric_columns if e not in ('rhd', 'damaged')]"
   ]
  },
  {
   "cell_type": "code",
   "execution_count": 19,
   "metadata": {},
   "outputs": [
    {
     "data": {
      "text/plain": [
       "['make', 'model', 'gearbox', 'fuel_type', 'rhd', 'damaged']"
      ]
     },
     "execution_count": 19,
     "metadata": {},
     "output_type": "execute_result"
    }
   ],
   "source": [
    "categorical_columns = train_df.select_dtypes('object').columns.to_list()\n",
    "categorical_columns.extend(('rhd', 'damaged'))\n",
    "categorical_columns"
   ]
  },
  {
   "cell_type": "markdown",
   "metadata": {},
   "source": [
    "### Rozkład zmiennej celu"
   ]
  },
  {
   "cell_type": "code",
   "execution_count": 20,
   "metadata": {},
   "outputs": [
    {
     "data": {
      "image/png": "[encoded data removed]",
      "text/plain": [
       "<Figure size 432x288 with 1 Axes>"
      ]
     },
     "metadata": {},
     "output_type": "display_data"
    }
   ],
   "source": [
    "sns.histplot(train_df['target_price'])\n",
    "plt.show()"
   ]
  },
  {
   "cell_type": "markdown",
   "metadata": {},
   "source": [
    "### Rozkłady zmiennych numerycznych"
   ]
  },
  {
   "cell_type": "code",
   "execution_count": 21,
   "metadata": {},
   "outputs": [
    {
     "data": {
      "image/png": "[encoded data removed]",
      "text/plain": [
       "<Figure size 1080x720 with 4 Axes>"
      ]
     },
     "metadata": {},
     "output_type": "display_data"
    }
   ],
   "source": [
    "train_df[numeric_columns].hist(bins=80, figsize = (15,10), layout=(2,2))\n",
    "plt.show()"
   ]
  },
  {
   "cell_type": "markdown",
   "metadata": {},
   "source": [
    "### Wartości odstające"
   ]
  },
  {
   "cell_type": "code",
   "execution_count": 22,
   "metadata": {},
   "outputs": [
    {
     "data": {
      "image/png": "[encoded data removed]",
      "text/plain": [
       "<Figure size 504x216 with 1 Axes>"
      ]
     },
     "metadata": {},
     "output_type": "display_data"
    },
    {
     "data": {
      "image/png": "[encoded data removed]",
      "text/plain": [
       "<Figure size 504x216 with 1 Axes>"
      ]
     },
     "metadata": {},
     "output_type": "display_data"
    },
    {
     "data": {
      "image/png": "[encoded data removed]",
      "text/plain": [
       "<Figure size 504x216 with 1 Axes>"
      ]
     },
     "metadata": {},
     "output_type": "display_data"
    },
    {
     "data": {
      "image/png": "[encoded data removed]",
      "text/plain": [
       "<Figure size 504x216 with 1 Axes>"
      ]
     },
     "metadata": {},
     "output_type": "display_data"
    }
   ],
   "source": [
    "for col in numeric_columns:\n",
    "    plt.figure(figsize=(7,3))\n",
    "    sns.boxplot(data=train_df, x=col)\n",
    "    plt.show()"
   ]
  },
  {
   "cell_type": "markdown",
   "metadata": {},
   "source": [
    "### Zmienne kategoryczne"
   ]
  },
  {
   "cell_type": "code",
   "execution_count": 23,
   "metadata": {},
   "outputs": [
    {
     "name": "stdout",
     "output_type": "stream",
     "text": [
      "make number of unique elements: 106\n",
      "model number of unique elements: 1109\n",
      "gearbox unique elements: ['automatic' 'manual' 'dual-clutch' nan 'cvt' 'automated-manual'\n",
      " 'semi-automatic' 'automatic-stepless' 'automatic-stepless-sequential'\n",
      " 'automatic-sequential' 'manual-sequential']\n",
      "fuel_type unique elements: ['petrol' 'diesel' 'petrol-lpg' 'hybrid' 'electric' 'petrol-cng' 'etanol']\n",
      "rhd unique elements: [0. 1.]\n",
      "damaged unique elements: [0. 1.]\n"
     ]
    }
   ],
   "source": [
    "for col in categorical_columns:\n",
    "    unique_vals = train_df[col].unique()\n",
    "    if len(unique_vals) < 20:\n",
    "        print(col, \"unique elements:\", unique_vals)\n",
    "    else:\n",
    "        print(col, \"number of unique elements:\", len(unique_vals))"
   ]
  },
  {
   "cell_type": "code",
   "execution_count": 24,
   "metadata": {},
   "outputs": [
    {
     "name": "stdout",
     "output_type": "stream",
     "text": [
      "Liczba klas zmiennej make: 106.\n",
      "Liczba klas pojawiających się mniej niż 100 razy: 66\n",
      "Liczba klas zmiennej model: 1109.\n",
      "Liczba klas pojawiających się mniej niż 100 razy: 830\n",
      "Liczba klas zmiennej gearbox: 11.\n",
      "Liczba klas pojawiających się mniej niż 100 razy: 6\n",
      "Liczba klas zmiennej fuel_type: 7.\n",
      "Liczba klas pojawiających się mniej niż 100 razy: 2\n",
      "Liczba klas zmiennej rhd: 2.\n",
      "Liczba klas pojawiających się mniej niż 100 razy: 0\n",
      "Liczba klas zmiennej damaged: 2.\n",
      "Liczba klas pojawiających się mniej niż 100 razy: 0\n"
     ]
    }
   ],
   "source": [
    "min_frequency = 100\n",
    "\n",
    "for cat in categorical_columns:\n",
    "    print(f\"Liczba klas zmiennej {cat}: {train_df[cat].unique().size}.\")\n",
    "    print(f\"Liczba klas pojawiających się mniej niż {min_frequency} razy: {sum(train_df[cat].value_counts() < min_frequency)}\")"
   ]
  },
  {
   "cell_type": "code",
   "execution_count": 25,
   "metadata": {},
   "outputs": [
    {
     "data": {
      "image/png": "[encoded data removed]",
      "text/plain": [
       "<Figure size 432x288 with 1 Axes>"
      ]
     },
     "metadata": {},
     "output_type": "display_data"
    },
    {
     "data": {
      "image/png": "[encoded data removed]",
      "text/plain": [
       "<Figure size 432x288 with 1 Axes>"
      ]
     },
     "metadata": {},
     "output_type": "display_data"
    },
    {
     "data": {
      "image/png": "[encoded data removed]",
      "text/plain": [
       "<Figure size 432x288 with 1 Axes>"
      ]
     },
     "metadata": {},
     "output_type": "display_data"
    },
    {
     "data": {
      "image/png": "[encoded data removed]",
      "text/plain": [
       "<Figure size 432x288 with 1 Axes>"
      ]
     },
     "metadata": {},
     "output_type": "display_data"
    },
    {
     "data": {
      "image/png": "[encoded data removed]",
      "text/plain": [
       "<Figure size 432x288 with 1 Axes>"
      ]
     },
     "metadata": {},
     "output_type": "display_data"
    }
   ],
   "source": [
    "for col in categorical_columns:\n",
    "\n",
    "    # wykres liczności dla zmiennej model byłby nieczytelny ze względu na dużą liczbę wartości\n",
    "    if col == 'model':\n",
    "        continue\n",
    "    \n",
    "    train_df[col].value_counts()[train_df[col].value_counts() > min_frequency].plot(kind='bar').set_title(col)\n",
    "    plt.show()"
   ]
  },
  {
   "cell_type": "markdown",
   "metadata": {},
   "source": [
    "### Zbadanie korelacji pearsona pomiędzy zmiennymi numerycznymi"
   ]
  },
  {
   "cell_type": "code",
   "execution_count": 26,
   "metadata": {},
   "outputs": [
    {
     "data": {
      "image/png": "[encoded data removed]",
      "text/plain": [
       "<Figure size 864x720 with 2 Axes>"
      ]
     },
     "metadata": {},
     "output_type": "display_data"
    }
   ],
   "source": [
    "plt.figure(figsize=(12, 10))\n",
    "heatmap = sns.heatmap(train_df.corr(), annot=True, vmin=-1, vmax=1, cmap=\"BrBG\")\n",
    "plt.show()"
   ]
  },
  {
   "cell_type": "code",
   "execution_count": 27,
   "metadata": {},
   "outputs": [
    {
     "data": {
      "text/plain": [
       "target_price       1.000000\n",
       "engine_power       0.650263\n",
       "vehicle_year       0.444519\n",
       "engine_capacity    0.378204\n",
       "damaged            0.068193\n",
       "mileage            0.030935\n",
       "rhd                0.028797\n",
       "Name: target_price, dtype: float64"
      ]
     },
     "execution_count": 27,
     "metadata": {},
     "output_type": "execute_result"
    }
   ],
   "source": [
    "train_df.corr()['target_price'].abs().sort_values(ascending=False)"
   ]
  },
  {
   "cell_type": "markdown",
   "metadata": {},
   "source": [
    "## Preprocessing"
   ]
  },
  {
   "cell_type": "markdown",
   "metadata": {},
   "source": [
    "Poniższe transformacje mogą zostać zautomatyzowane za pomocą pipeline'ów\n",
    "\n",
    "Przykładowe pipeline'y umieściłem w notebooku `pipelines_example.ipynb`"
   ]
  },
  {
   "cell_type": "code",
   "execution_count": 28,
   "metadata": {},
   "outputs": [],
   "source": [
    "numeric_imputer = SimpleImputer(strategy='median')\n",
    "outlier_enc = OutlierEncoder()\n",
    "standarizer = StandardScaler()\n",
    "\n",
    "onehot_cols = ['make', 'model', 'gearbox', 'fuel_type']\n",
    "binary_cols = ['rhd', 'damaged']\n",
    "\n",
    "categorical_imputer = SimpleImputer(strategy='constant', fill_value='Other')\n",
    "infrequent_enc = InfrequentEncoder(min_frequency=100, col_names=onehot_cols)\n",
    "onehot_enc = OneHotEncoder(handle_unknown='ignore')"
   ]
  },
  {
   "cell_type": "code",
   "execution_count": 29,
   "metadata": {},
   "outputs": [],
   "source": [
    "X = train_df.drop(columns=['target_price'])\n",
    "y = train_df['target_price']\n",
    "\n",
    "X[numeric_columns] = numeric_imputer.fit_transform(X[numeric_columns])\n",
    "X[numeric_columns] = outlier_enc.fit_transform(X[numeric_columns])\n",
    "X[numeric_columns] = standarizer.fit_transform(X[numeric_columns])\n",
    "\n",
    "X[onehot_cols] = categorical_imputer.fit_transform(X[onehot_cols])\n",
    "X[onehot_cols] = infrequent_enc.fit_transform(X[onehot_cols])\n",
    "\n",
    "one_hotted = onehot_enc.fit_transform(X[onehot_cols])\n",
    "\n",
    "X = X.drop(columns=onehot_cols)\n",
    "X = pd.concat([X, pd.DataFrame(one_hotted.toarray(), columns=onehot_enc.get_feature_names_out())], axis=1)"
   ]
  },
  {
   "cell_type": "code",
   "execution_count": 30,
   "metadata": {},
   "outputs": [
    {
     "data": {
      "text/html": [
       "<div>\n",
       "<style scoped>\n",
       "    .dataframe tbody tr th:only-of-type {\n",
       "        vertical-align: middle;\n",
       "    }\n",
       "\n",
       "    .dataframe tbody tr th {\n",
       "        vertical-align: top;\n",
       "    }\n",
       "\n",
       "    .dataframe thead th {\n",
       "        text-align: right;\n",
       "    }\n",
       "</style>\n",
       "<table border=\"1\" class=\"dataframe\">\n",
       "  <thead>\n",
       "    <tr style=\"text-align: right;\">\n",
       "      <th></th>\n",
       "      <th>vehicle_year</th>\n",
       "      <th>mileage</th>\n",
       "      <th>engine_capacity</th>\n",
       "      <th>engine_power</th>\n",
       "      <th>damaged</th>\n",
       "      <th>rhd</th>\n",
       "      <th>make_Other</th>\n",
       "      <th>make_alfa-romeo</th>\n",
       "      <th>make_audi</th>\n",
       "      <th>make_bmw</th>\n",
       "      <th>...</th>\n",
       "      <th>gearbox_automatic</th>\n",
       "      <th>gearbox_cvt</th>\n",
       "      <th>gearbox_dual-clutch</th>\n",
       "      <th>gearbox_manual</th>\n",
       "      <th>fuel_type_Other</th>\n",
       "      <th>fuel_type_diesel</th>\n",
       "      <th>fuel_type_electric</th>\n",
       "      <th>fuel_type_hybrid</th>\n",
       "      <th>fuel_type_petrol</th>\n",
       "      <th>fuel_type_petrol-lpg</th>\n",
       "    </tr>\n",
       "  </thead>\n",
       "  <tbody>\n",
       "    <tr>\n",
       "      <th>0</th>\n",
       "      <td>1.310008</td>\n",
       "      <td>-1.629218</td>\n",
       "      <td>2.040114</td>\n",
       "      <td>2.208166</td>\n",
       "      <td>0.0</td>\n",
       "      <td>0.0</td>\n",
       "      <td>0.0</td>\n",
       "      <td>0.0</td>\n",
       "      <td>0.0</td>\n",
       "      <td>1.0</td>\n",
       "      <td>...</td>\n",
       "      <td>1.0</td>\n",
       "      <td>0.0</td>\n",
       "      <td>0.0</td>\n",
       "      <td>0.0</td>\n",
       "      <td>0.0</td>\n",
       "      <td>0.0</td>\n",
       "      <td>0.0</td>\n",
       "      <td>0.0</td>\n",
       "      <td>1.0</td>\n",
       "      <td>0.0</td>\n",
       "    </tr>\n",
       "    <tr>\n",
       "      <th>1</th>\n",
       "      <td>0.548112</td>\n",
       "      <td>0.867544</td>\n",
       "      <td>-1.339999</td>\n",
       "      <td>-0.742405</td>\n",
       "      <td>0.0</td>\n",
       "      <td>0.0</td>\n",
       "      <td>0.0</td>\n",
       "      <td>0.0</td>\n",
       "      <td>0.0</td>\n",
       "      <td>0.0</td>\n",
       "      <td>...</td>\n",
       "      <td>0.0</td>\n",
       "      <td>0.0</td>\n",
       "      <td>0.0</td>\n",
       "      <td>1.0</td>\n",
       "      <td>0.0</td>\n",
       "      <td>0.0</td>\n",
       "      <td>0.0</td>\n",
       "      <td>0.0</td>\n",
       "      <td>1.0</td>\n",
       "      <td>0.0</td>\n",
       "    </tr>\n",
       "    <tr>\n",
       "      <th>2</th>\n",
       "      <td>1.310008</td>\n",
       "      <td>1.590248</td>\n",
       "      <td>2.040114</td>\n",
       "      <td>2.208166</td>\n",
       "      <td>0.0</td>\n",
       "      <td>0.0</td>\n",
       "      <td>1.0</td>\n",
       "      <td>0.0</td>\n",
       "      <td>0.0</td>\n",
       "      <td>0.0</td>\n",
       "      <td>...</td>\n",
       "      <td>1.0</td>\n",
       "      <td>0.0</td>\n",
       "      <td>0.0</td>\n",
       "      <td>0.0</td>\n",
       "      <td>0.0</td>\n",
       "      <td>0.0</td>\n",
       "      <td>0.0</td>\n",
       "      <td>0.0</td>\n",
       "      <td>1.0</td>\n",
       "      <td>0.0</td>\n",
       "    </tr>\n",
       "    <tr>\n",
       "      <th>3</th>\n",
       "      <td>0.357638</td>\n",
       "      <td>-0.198375</td>\n",
       "      <td>-0.844524</td>\n",
       "      <td>-1.052991</td>\n",
       "      <td>0.0</td>\n",
       "      <td>0.0</td>\n",
       "      <td>0.0</td>\n",
       "      <td>0.0</td>\n",
       "      <td>0.0</td>\n",
       "      <td>0.0</td>\n",
       "      <td>...</td>\n",
       "      <td>0.0</td>\n",
       "      <td>0.0</td>\n",
       "      <td>0.0</td>\n",
       "      <td>1.0</td>\n",
       "      <td>0.0</td>\n",
       "      <td>1.0</td>\n",
       "      <td>0.0</td>\n",
       "      <td>0.0</td>\n",
       "      <td>0.0</td>\n",
       "      <td>0.0</td>\n",
       "    </tr>\n",
       "    <tr>\n",
       "      <th>4</th>\n",
       "      <td>-2.118522</td>\n",
       "      <td>-0.013923</td>\n",
       "      <td>2.040114</td>\n",
       "      <td>2.208166</td>\n",
       "      <td>0.0</td>\n",
       "      <td>0.0</td>\n",
       "      <td>0.0</td>\n",
       "      <td>0.0</td>\n",
       "      <td>0.0</td>\n",
       "      <td>0.0</td>\n",
       "      <td>...</td>\n",
       "      <td>0.0</td>\n",
       "      <td>0.0</td>\n",
       "      <td>0.0</td>\n",
       "      <td>1.0</td>\n",
       "      <td>0.0</td>\n",
       "      <td>0.0</td>\n",
       "      <td>0.0</td>\n",
       "      <td>0.0</td>\n",
       "      <td>1.0</td>\n",
       "      <td>0.0</td>\n",
       "    </tr>\n",
       "  </tbody>\n",
       "</table>\n",
       "<p>5 rows × 338 columns</p>\n",
       "</div>"
      ],
      "text/plain": [
       "   vehicle_year   mileage  engine_capacity  engine_power  damaged  rhd  \\\n",
       "0      1.310008 -1.629218         2.040114      2.208166      0.0  0.0   \n",
       "1      0.548112  0.867544        -1.339999     -0.742405      0.0  0.0   \n",
       "2      1.310008  1.590248         2.040114      2.208166      0.0  0.0   \n",
       "3      0.357638 -0.198375        -0.844524     -1.052991      0.0  0.0   \n",
       "4     -2.118522 -0.013923         2.040114      2.208166      0.0  0.0   \n",
       "\n",
       "   make_Other  make_alfa-romeo  make_audi  make_bmw  ...  gearbox_automatic  \\\n",
       "0         0.0              0.0        0.0       1.0  ...                1.0   \n",
       "1         0.0              0.0        0.0       0.0  ...                0.0   \n",
       "2         1.0              0.0        0.0       0.0  ...                1.0   \n",
       "3         0.0              0.0        0.0       0.0  ...                0.0   \n",
       "4         0.0              0.0        0.0       0.0  ...                0.0   \n",
       "\n",
       "   gearbox_cvt  gearbox_dual-clutch  gearbox_manual  fuel_type_Other  \\\n",
       "0          0.0                  0.0             0.0              0.0   \n",
       "1          0.0                  0.0             1.0              0.0   \n",
       "2          0.0                  0.0             0.0              0.0   \n",
       "3          0.0                  0.0             1.0              0.0   \n",
       "4          0.0                  0.0             1.0              0.0   \n",
       "\n",
       "   fuel_type_diesel  fuel_type_electric  fuel_type_hybrid  fuel_type_petrol  \\\n",
       "0               0.0                 0.0               0.0               1.0   \n",
       "1               0.0                 0.0               0.0               1.0   \n",
       "2               0.0                 0.0               0.0               1.0   \n",
       "3               1.0                 0.0               0.0               0.0   \n",
       "4               0.0                 0.0               0.0               1.0   \n",
       "\n",
       "   fuel_type_petrol-lpg  \n",
       "0                   0.0  \n",
       "1                   0.0  \n",
       "2                   0.0  \n",
       "3                   0.0  \n",
       "4                   0.0  \n",
       "\n",
       "[5 rows x 338 columns]"
      ]
     },
     "execution_count": 30,
     "metadata": {},
     "output_type": "execute_result"
    }
   ],
   "source": [
    "X.head()"
   ]
  },
  {
   "cell_type": "markdown",
   "metadata": {},
   "source": [
    "## Feature selection"
   ]
  },
  {
   "cell_type": "code",
   "execution_count": 31,
   "metadata": {},
   "outputs": [],
   "source": [
    "# Możnaby użyć, gdybym miał więcej czasu/lepsze podzespoły\n",
    "\n",
    "# from sklearn.feature_selection import SequentialFeatureSelector\n",
    "\n",
    "# sfs = SequentialFeatureSelector(\n",
    "#     RandomForestRegressor(max_depth=10, random_state=128, n_jobs=-1),\n",
    "#     n_features_to_select=25,\n",
    "#     direction='forward',\n",
    "#     scoring='neg_mean_squared_error',\n",
    "#     cv=3,\n",
    "#     n_jobs=-1\n",
    "# )\n",
    "\n",
    "# sfs.fit(X, y)"
   ]
  },
  {
   "cell_type": "markdown",
   "metadata": {},
   "source": [
    "Model na potrzeby feature selection:"
   ]
  },
  {
   "cell_type": "code",
   "execution_count": 32,
   "metadata": {},
   "outputs": [
    {
     "data": {
      "text/plain": [
       "RandomForestRegressor(max_depth=10, n_jobs=-1, random_state=128)"
      ]
     },
     "execution_count": 32,
     "metadata": {},
     "output_type": "execute_result"
    }
   ],
   "source": [
    "rf_feature_selection = RandomForestRegressor(max_depth=10, random_state=128, n_jobs=-1)\n",
    "rf_feature_selection.fit(X, y)"
   ]
  },
  {
   "cell_type": "code",
   "execution_count": 33,
   "metadata": {},
   "outputs": [
    {
     "data": {
      "text/plain": [
       "vehicle_year            0.291525\n",
       "engine_power            0.284830\n",
       "gearbox_manual          0.154904\n",
       "mileage                 0.097312\n",
       "engine_capacity         0.049106\n",
       "make_porsche            0.021366\n",
       "make_Other              0.014496\n",
       "fuel_type_petrol        0.013859\n",
       "damaged                 0.011429\n",
       "model_911               0.010155\n",
       "fuel_type_diesel        0.008373\n",
       "make_mercedes-benz      0.006684\n",
       "model_Other             0.005836\n",
       "fuel_type_petrol-lpg    0.003257\n",
       "model_panamera          0.002679\n",
       "model_other             0.002484\n",
       "gearbox_dual-clutch     0.002175\n",
       "model_mustang           0.001776\n",
       "gearbox_automatic       0.001719\n",
       "model_klasa-s           0.001680\n",
       "gearbox_Other           0.001458\n",
       "make_bmw                0.001356\n",
       "make_audi               0.000954\n",
       "fuel_type_electric      0.000892\n",
       "make_dodge              0.000750\n",
       "fuel_type_hybrid        0.000603\n",
       "make_ford               0.000525\n",
       "make_land-rover         0.000448\n",
       "model_x5                0.000386\n",
       "model_macan             0.000321\n",
       "dtype: float64"
      ]
     },
     "execution_count": 33,
     "metadata": {},
     "output_type": "execute_result"
    }
   ],
   "source": [
    "importances = pd.Series(data=rf_feature_selection.feature_importances_, index=X.columns)\n",
    "importances.sort_values(ascending=False, inplace=True)\n",
    "importances.head(30)"
   ]
  },
  {
   "cell_type": "markdown",
   "metadata": {},
   "source": [
    "Uwzględnijmy zmienne, których feature importance jest większy od 0.0005"
   ]
  },
  {
   "cell_type": "code",
   "execution_count": 34,
   "metadata": {},
   "outputs": [],
   "source": [
    "importance_threshold = 0.0005\n",
    "\n",
    "selected_features = importances[importances > importance_threshold].index.tolist()"
   ]
  },
  {
   "cell_type": "code",
   "execution_count": 35,
   "metadata": {},
   "outputs": [],
   "source": [
    "X = X[selected_features]"
   ]
  },
  {
   "cell_type": "markdown",
   "metadata": {},
   "source": [
    "## Model selection"
   ]
  },
  {
   "cell_type": "code",
   "execution_count": 36,
   "metadata": {},
   "outputs": [
    {
     "name": "stdout",
     "output_type": "stream",
     "text": [
      "-3691538696.68 neg_mean_squared_error with a standard deviation of 341825368.77\n"
     ]
    }
   ],
   "source": [
    "scores_lr = cross_val_score(\n",
    "    LinearRegression(n_jobs=-1),\n",
    "    X, y,\n",
    "    scoring='neg_mean_squared_error',\n",
    "    cv=3,\n",
    "    n_jobs=-1\n",
    ")\n",
    "\n",
    "print_cross_val_summary(scores_lr)"
   ]
  },
  {
   "cell_type": "code",
   "execution_count": 37,
   "metadata": {},
   "outputs": [
    {
     "name": "stdout",
     "output_type": "stream",
     "text": [
      "-1873794758.72 neg_mean_squared_error with a standard deviation of 364172722.76\n"
     ]
    }
   ],
   "source": [
    "scores_dt = cross_val_score(\n",
    "    DecisionTreeRegressor(max_depth=20, random_state=128),\n",
    "    X, y,\n",
    "    scoring='neg_mean_squared_error',\n",
    "    cv=3,\n",
    "    n_jobs=-1\n",
    ")\n",
    "\n",
    "print_cross_val_summary(scores_dt)"
   ]
  },
  {
   "cell_type": "code",
   "execution_count": 38,
   "metadata": {},
   "outputs": [
    {
     "name": "stdout",
     "output_type": "stream",
     "text": [
      "-1536975634.52 neg_mean_squared_error with a standard deviation of 355071167.79\n"
     ]
    }
   ],
   "source": [
    "scores_rf = cross_val_score(\n",
    "    RandomForestRegressor(max_depth=10, random_state=128, n_jobs=-1),\n",
    "    X, y,\n",
    "    scoring='neg_mean_squared_error',\n",
    "    cv=3,\n",
    "    n_jobs=-1\n",
    ")\n",
    "\n",
    "print_cross_val_summary(scores_rf)"
   ]
  },
  {
   "cell_type": "markdown",
   "metadata": {},
   "source": [
    "Najlepiej sprawuje się las losowy, dlatego to właśnie go postaram się dopracować (w tym miejscu wciąż pozostaje miejsce do rozbudowy, możnaby sprawdzić jak sprawują się modele wykorzystujące gradient boosting, na przykład XGBoost, czy LightGBM)"
   ]
  },
  {
   "cell_type": "markdown",
   "metadata": {},
   "source": [
    "## Hyperparameter tuning"
   ]
  },
  {
   "cell_type": "code",
   "execution_count": 39,
   "metadata": {},
   "outputs": [],
   "source": [
    "rf_reg = RandomForestRegressor(random_state=128, n_jobs=-1)\n",
    "\n",
    "params = {\n",
    "    'n_estimators': np.linspace(50, 200, 31).astype(int),\n",
    "    'max_depth': np.arange(5, 21).astype(int),\n",
    "    'max_features': ['sqrt', 'log2', None]\n",
    "}"
   ]
  },
  {
   "cell_type": "code",
   "execution_count": 40,
   "metadata": {},
   "outputs": [
    {
     "ename": "NameError",
     "evalue": "name 'asd' is not defined",
     "output_type": "error",
     "traceback": [
      "\u001b[1;31m---------------------------------------------------------------------------\u001b[0m",
      "\u001b[1;31mNameError\u001b[0m                                 Traceback (most recent call last)",
      "\u001b[1;32mc:\\Users\\boro\\Desktop\\olx_task\\OLX_recruitment_task\\solution.ipynb Cell 58'\u001b[0m in \u001b[0;36m<cell line: 1>\u001b[1;34m()\u001b[0m\n\u001b[1;32m----> <a href='vscode-notebook-cell:/c%3A/Users/boro/Desktop/olx_task/OLX_recruitment_task/solution.ipynb#ch0000072?line=0'>1</a>\u001b[0m asd\n",
      "\u001b[1;31mNameError\u001b[0m: name 'asd' is not defined"
     ]
    }
   ],
   "source": [
    "asd"
   ]
  },
  {
   "cell_type": "code",
   "execution_count": null,
   "metadata": {},
   "outputs": [
    {
     "name": "stdout",
     "output_type": "stream",
     "text": [
      "Fitting 3 folds for each of 100 candidates, totalling 300 fits\n"
     ]
    }
   ],
   "source": [
    "clf = RandomizedSearchCV(rf_reg,\n",
    "                         param_distributions=params,\n",
    "                         cv=3,\n",
    "                         n_jobs=-1,\n",
    "                         n_iter=100,\n",
    "                         scoring = 'neg_mean_squared_error',\n",
    "                         random_state=128,\n",
    "                         verbose = 1\n",
    "                        )\n",
    "\n",
    "search = clf.fit(X, y)"
   ]
  },
  {
   "cell_type": "code",
   "execution_count": null,
   "metadata": {},
   "outputs": [
    {
     "data": {
      "text/plain": [
       "RandomForestRegressor(max_depth=20, max_features='log2', n_estimators=155,\n",
       "                      n_jobs=-1, random_state=128)"
      ]
     },
     "execution_count": 69,
     "metadata": {},
     "output_type": "execute_result"
    }
   ],
   "source": [
    "clf.best_estimator_"
   ]
  },
  {
   "cell_type": "code",
   "execution_count": null,
   "metadata": {},
   "outputs": [
    {
     "data": {
      "text/plain": [
       "{'n_estimators': 155, 'max_features': 'log2', 'max_depth': 20}"
      ]
     },
     "execution_count": 70,
     "metadata": {},
     "output_type": "execute_result"
    }
   ],
   "source": [
    "clf.best_params_"
   ]
  },
  {
   "cell_type": "code",
   "execution_count": null,
   "metadata": {},
   "outputs": [
    {
     "data": {
      "text/plain": [
       "['best_model.sav']"
      ]
     },
     "execution_count": 71,
     "metadata": {},
     "output_type": "execute_result"
    }
   ],
   "source": [
    "joblib.dump(clf.best_estimator_, 'best_model.sav')"
   ]
  },
  {
   "cell_type": "markdown",
   "metadata": {},
   "source": [
    "## Model evaluation"
   ]
  },
  {
   "cell_type": "code",
   "execution_count": null,
   "metadata": {},
   "outputs": [],
   "source": [
    "# model = joblib.load('best_model.sav')"
   ]
  },
  {
   "cell_type": "code",
   "execution_count": null,
   "metadata": {},
   "outputs": [],
   "source": [
    "model = clf.best_estimator_"
   ]
  },
  {
   "cell_type": "code",
   "execution_count": null,
   "metadata": {},
   "outputs": [],
   "source": [
    "def transform_new_data(X_new):\n",
    "    X_ = X_new.copy()\n",
    "\n",
    "    X_[numeric_columns] = numeric_imputer.transform(X_[numeric_columns])\n",
    "    X_[numeric_columns] = outlier_enc.transform(X_[numeric_columns])\n",
    "    X_[numeric_columns] = standarizer.transform(X_[numeric_columns])\n",
    "\n",
    "    X_[onehot_cols] = categorical_imputer.transform(X_[onehot_cols])\n",
    "    X_[onehot_cols] = infrequent_enc.transform(X_[onehot_cols])\n",
    "\n",
    "    one_hotted = onehot_enc.transform(X_[onehot_cols])\n",
    "\n",
    "    X_ = X_.drop(columns=onehot_cols)\n",
    "    X_ = pd.concat([X_, pd.DataFrame(one_hotted.toarray(), columns=onehot_enc.get_feature_names_out())], axis=1)\n",
    "\n",
    "    X_ = X_[selected_features]\n",
    "\n",
    "    return X_"
   ]
  },
  {
   "cell_type": "code",
   "execution_count": null,
   "metadata": {},
   "outputs": [
    {
     "name": "stdout",
     "output_type": "stream",
     "text": [
      "MSE: 1499654870.9014897\n",
      "RMSE: 38725.37760824922\n",
      "MAE: 11312.819937413222\n",
      "R2: 0.8047170807135904\n"
     ]
    }
   ],
   "source": [
    "X_test = test_df.drop(columns=['target_price'])\n",
    "y_test = test_df['target_price']\n",
    "\n",
    "X_test = transform_new_data(X_test)\n",
    "\n",
    "y_test_hat = model.predict(X_test)\n",
    "\n",
    "print_metrics(y_test, y_test_hat)"
   ]
  },
  {
   "cell_type": "markdown",
   "metadata": {},
   "source": [
    "Błąd średniokwadratowy wyniósł niecałe 40 tysięcy, co nie jest złym wynikiem, ale niewątpliwie pozostawia pole do poprawy. Przykładowe działania jaki możnaby podjąć to pogłębiona analiza feature selection, przeszukanie większej liczby hiperparametrów i finalnie klasteryzacja samochodów z intencją podziału na np. segment budżetowy, zwykłe samochody i samochody marki premium, a następnie stworzenie 3 modeli predykujących cenę dla każdego z tych klastrów. "
   ]
  },
  {
   "cell_type": "markdown",
   "metadata": {},
   "source": [
    "## XAI"
   ]
  },
  {
   "cell_type": "code",
   "execution_count": null,
   "metadata": {},
   "outputs": [],
   "source": [
    "np.random.seed(42)\n",
    "samples_idx = np.random.randint(len(X_test), size=1000)\n",
    "samples = X_test.iloc[samples_idx]"
   ]
  },
  {
   "cell_type": "code",
   "execution_count": null,
   "metadata": {},
   "outputs": [
    {
     "data": {
      "text/plain": [
       "Index(['vehicle_year', 'engine_power', 'gearbox_manual', 'mileage',\n",
       "       'engine_capacity', 'make_porsche', 'make_Other', 'fuel_type_petrol',\n",
       "       'damaged', 'model_911', 'fuel_type_diesel', 'make_mercedes-benz',\n",
       "       'model_Other', 'fuel_type_petrol-lpg', 'model_panamera', 'model_other',\n",
       "       'gearbox_dual-clutch', 'model_mustang', 'gearbox_automatic',\n",
       "       'model_klasa-s', 'gearbox_Other', 'make_bmw', 'make_audi',\n",
       "       'fuel_type_electric', 'make_dodge', 'fuel_type_hybrid', 'make_ford'],\n",
       "      dtype='object')"
      ]
     },
     "execution_count": 48,
     "metadata": {},
     "output_type": "execute_result"
    }
   ],
   "source": [
    "X.columns"
   ]
  },
  {
   "cell_type": "code",
   "execution_count": null,
   "metadata": {},
   "outputs": [],
   "source": [
    "exp_shap = shap.Explainer(model.predict, X)\n",
    "shap_values = exp_shap(samples)"
   ]
  },
  {
   "cell_type": "code",
   "execution_count": null,
   "metadata": {},
   "outputs": [],
   "source": [
    "# cofamy skalowanie, żeby dane na wykresach były informatywne\n",
    "shap_values.data = standarizer.inverse_transform(shap_values.data[])"
   ]
  }
 ],
 "metadata": {
  "interpreter": {
   "hash": "af39f1c9dedb501b8d174e567a1caad1cbb89bce10cf3b73618cc2163a5e6d14"
  },
  "kernelspec": {
   "display_name": "Python 3.10.4 ('olx')",
   "language": "python",
   "name": "python3"
  },
  "language_info": {
   "codemirror_mode": {
    "name": "ipython",
    "version": 3
   },
   "file_extension": ".py",
   "mimetype": "text/x-python",
   "name": "python",
   "nbconvert_exporter": "python",
   "pygments_lexer": "ipython3",
   "version": "3.10.4"
  },
  "orig_nbformat": 4
 },
 "nbformat": 4,
 "nbformat_minor": 2
}
