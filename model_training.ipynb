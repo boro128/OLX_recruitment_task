{
 "cells": [
  {
   "cell_type": "code",
   "execution_count": 32,
   "metadata": {},
   "outputs": [],
   "source": [
    "import pandas as pd\n",
    "import matplotlib.pyplot as plt\n",
    "import seaborn as sns\n",
    "import missingno as msno\n",
    "\n",
    "from sklearn.model_selection import train_test_split\n",
    "\n",
    "sns.set()"
   ]
  },
  {
   "cell_type": "code",
   "execution_count": 2,
   "metadata": {},
   "outputs": [
    {
     "data": {
      "text/html": [
       "<div>\n",
       "<style scoped>\n",
       "    .dataframe tbody tr th:only-of-type {\n",
       "        vertical-align: middle;\n",
       "    }\n",
       "\n",
       "    .dataframe tbody tr th {\n",
       "        vertical-align: top;\n",
       "    }\n",
       "\n",
       "    .dataframe thead th {\n",
       "        text-align: right;\n",
       "    }\n",
       "</style>\n",
       "<table border=\"1\" class=\"dataframe\">\n",
       "  <thead>\n",
       "    <tr style=\"text-align: right;\">\n",
       "      <th></th>\n",
       "      <th>make</th>\n",
       "      <th>model</th>\n",
       "      <th>vehicle_year</th>\n",
       "      <th>mileage</th>\n",
       "      <th>engine_capacity</th>\n",
       "      <th>engine_power</th>\n",
       "      <th>gearbox</th>\n",
       "      <th>fuel_type</th>\n",
       "      <th>damaged</th>\n",
       "      <th>rhd</th>\n",
       "      <th>target_price</th>\n",
       "    </tr>\n",
       "  </thead>\n",
       "  <tbody>\n",
       "    <tr>\n",
       "      <th>0</th>\n",
       "      <td>audi</td>\n",
       "      <td>a6</td>\n",
       "      <td>2013.0</td>\n",
       "      <td>153817.0</td>\n",
       "      <td>1984.0</td>\n",
       "      <td>180.0</td>\n",
       "      <td>automatic</td>\n",
       "      <td>petrol</td>\n",
       "      <td>0.0</td>\n",
       "      <td>0.0</td>\n",
       "      <td>69900.0</td>\n",
       "    </tr>\n",
       "    <tr>\n",
       "      <th>1</th>\n",
       "      <td>skoda</td>\n",
       "      <td>fabia</td>\n",
       "      <td>2004.0</td>\n",
       "      <td>115000.0</td>\n",
       "      <td>1390.0</td>\n",
       "      <td>75.0</td>\n",
       "      <td>manual</td>\n",
       "      <td>petrol</td>\n",
       "      <td>0.0</td>\n",
       "      <td>0.0</td>\n",
       "      <td>8299.0</td>\n",
       "    </tr>\n",
       "    <tr>\n",
       "      <th>2</th>\n",
       "      <td>chevrolet</td>\n",
       "      <td>camaro</td>\n",
       "      <td>2012.0</td>\n",
       "      <td>299000.0</td>\n",
       "      <td>3600.0</td>\n",
       "      <td>323.0</td>\n",
       "      <td>automatic</td>\n",
       "      <td>petrol</td>\n",
       "      <td>0.0</td>\n",
       "      <td>0.0</td>\n",
       "      <td>54500.0</td>\n",
       "    </tr>\n",
       "    <tr>\n",
       "      <th>3</th>\n",
       "      <td>bmw</td>\n",
       "      <td>seria-3</td>\n",
       "      <td>2013.0</td>\n",
       "      <td>155000.0</td>\n",
       "      <td>1995.0</td>\n",
       "      <td>163.0</td>\n",
       "      <td>automatic</td>\n",
       "      <td>diesel</td>\n",
       "      <td>0.0</td>\n",
       "      <td>0.0</td>\n",
       "      <td>62000.0</td>\n",
       "    </tr>\n",
       "    <tr>\n",
       "      <th>4</th>\n",
       "      <td>renault</td>\n",
       "      <td>talisman</td>\n",
       "      <td>2017.0</td>\n",
       "      <td>167000.0</td>\n",
       "      <td>1600.0</td>\n",
       "      <td>130.0</td>\n",
       "      <td>automatic</td>\n",
       "      <td>diesel</td>\n",
       "      <td>0.0</td>\n",
       "      <td>0.0</td>\n",
       "      <td>52999.0</td>\n",
       "    </tr>\n",
       "  </tbody>\n",
       "</table>\n",
       "</div>"
      ],
      "text/plain": [
       "        make     model  vehicle_year   mileage  engine_capacity  engine_power  \\\n",
       "0       audi        a6        2013.0  153817.0           1984.0         180.0   \n",
       "1      skoda     fabia        2004.0  115000.0           1390.0          75.0   \n",
       "2  chevrolet    camaro        2012.0  299000.0           3600.0         323.0   \n",
       "3        bmw   seria-3        2013.0  155000.0           1995.0         163.0   \n",
       "4    renault  talisman        2017.0  167000.0           1600.0         130.0   \n",
       "\n",
       "     gearbox fuel_type  damaged  rhd  target_price  \n",
       "0  automatic    petrol      0.0  0.0       69900.0  \n",
       "1     manual    petrol      0.0  0.0        8299.0  \n",
       "2  automatic    petrol      0.0  0.0       54500.0  \n",
       "3  automatic    diesel      0.0  0.0       62000.0  \n",
       "4  automatic    diesel      0.0  0.0       52999.0  "
      ]
     },
     "execution_count": 2,
     "metadata": {},
     "output_type": "execute_result"
    }
   ],
   "source": [
    "df = pd.read_csv('data/otomoto_dataset.csv')\n",
    "df.head()"
   ]
  },
  {
   "cell_type": "markdown",
   "metadata": {},
   "source": [
    "## Zapoznanie się ze zbiorem danych i wykrycie ewentualnych anomalii"
   ]
  },
  {
   "cell_type": "code",
   "execution_count": 4,
   "metadata": {},
   "outputs": [
    {
     "data": {
      "text/plain": [
       "(206860, 11)"
      ]
     },
     "execution_count": 4,
     "metadata": {},
     "output_type": "execute_result"
    }
   ],
   "source": [
    "df.shape"
   ]
  },
  {
   "cell_type": "code",
   "execution_count": 5,
   "metadata": {},
   "outputs": [
    {
     "name": "stdout",
     "output_type": "stream",
     "text": [
      "<class 'pandas.core.frame.DataFrame'>\n",
      "RangeIndex: 206860 entries, 0 to 206859\n",
      "Data columns (total 11 columns):\n",
      " #   Column           Non-Null Count   Dtype  \n",
      "---  ------           --------------   -----  \n",
      " 0   make             206860 non-null  object \n",
      " 1   model            206860 non-null  object \n",
      " 2   vehicle_year     206860 non-null  float64\n",
      " 3   mileage          205506 non-null  float64\n",
      " 4   engine_capacity  204662 non-null  float64\n",
      " 5   engine_power     205262 non-null  float64\n",
      " 6   gearbox          205466 non-null  object \n",
      " 7   fuel_type        206860 non-null  object \n",
      " 8   damaged          206860 non-null  float64\n",
      " 9   rhd              206860 non-null  float64\n",
      " 10  target_price     206860 non-null  float64\n",
      "dtypes: float64(7), object(4)\n",
      "memory usage: 17.4+ MB\n"
     ]
    }
   ],
   "source": [
    "df.info()"
   ]
  },
  {
   "cell_type": "code",
   "execution_count": 6,
   "metadata": {},
   "outputs": [
    {
     "data": {
      "text/plain": [
       "make                  0\n",
       "model                 0\n",
       "vehicle_year          0\n",
       "mileage            1354\n",
       "engine_capacity    2198\n",
       "engine_power       1598\n",
       "gearbox            1394\n",
       "fuel_type             0\n",
       "damaged               0\n",
       "rhd                   0\n",
       "target_price          0\n",
       "dtype: int64"
      ]
     },
     "execution_count": 6,
     "metadata": {},
     "output_type": "execute_result"
    }
   ],
   "source": [
    "df.isnull().sum()"
   ]
  },
  {
   "cell_type": "code",
   "execution_count": 13,
   "metadata": {},
   "outputs": [
    {
     "data": {
      "image/png": "[encoded data removed]",
      "text/plain": [
       "<Figure size 1800x720 with 2 Axes>"
      ]
     },
     "metadata": {},
     "output_type": "display_data"
    }
   ],
   "source": [
    "msno.matrix(df)\n",
    "plt.show()"
   ]
  },
  {
   "cell_type": "markdown",
   "metadata": {},
   "source": [
    "Wiersze zazwyczaj nie zawierają brakujących danych we wszystkich kolumnach, w których występują braki."
   ]
  },
  {
   "cell_type": "code",
   "execution_count": 14,
   "metadata": {},
   "outputs": [
    {
     "data": {
      "text/plain": [
       "4939"
      ]
     },
     "execution_count": 14,
     "metadata": {},
     "output_type": "execute_result"
    }
   ],
   "source": [
    "sum(df.duplicated())"
   ]
  },
  {
   "cell_type": "markdown",
   "metadata": {},
   "source": [
    "Występują powtarzające się rekordy"
   ]
  },
  {
   "cell_type": "code",
   "execution_count": 28,
   "metadata": {},
   "outputs": [
    {
     "data": {
      "text/plain": [
       "0"
      ]
     },
     "execution_count": 28,
     "metadata": {},
     "output_type": "execute_result"
    }
   ],
   "source": [
    "df[(\n",
    "    (df['target_price'] < 0) |\n",
    "    (df['mileage'] < 0) |\n",
    "    (df['vehicle_year'] < 1900) |\n",
    "    (df['engine_capacity'] < 0) |\n",
    "    (df['engine_power'] < 0)\n",
    "    )].size"
   ]
  },
  {
   "cell_type": "markdown",
   "metadata": {},
   "source": [
    "Brak błędnych wartości w danych"
   ]
  },
  {
   "cell_type": "markdown",
   "metadata": {},
   "source": [
    "## EDA"
   ]
  },
  {
   "cell_type": "markdown",
   "metadata": {},
   "source": [
    "### Podział na zbiory treningowe i testowe"
   ]
  },
  {
   "cell_type": "code",
   "execution_count": 34,
   "metadata": {},
   "outputs": [],
   "source": [
    "train_df, test_df = train_test_split(df, test_size=0.3, random_state=128)"
   ]
  },
  {
   "cell_type": "code",
   "execution_count": 35,
   "metadata": {},
   "outputs": [
    {
     "data": {
      "text/html": [
       "<div>\n",
       "<style scoped>\n",
       "    .dataframe tbody tr th:only-of-type {\n",
       "        vertical-align: middle;\n",
       "    }\n",
       "\n",
       "    .dataframe tbody tr th {\n",
       "        vertical-align: top;\n",
       "    }\n",
       "\n",
       "    .dataframe thead th {\n",
       "        text-align: right;\n",
       "    }\n",
       "</style>\n",
       "<table border=\"1\" class=\"dataframe\">\n",
       "  <thead>\n",
       "    <tr style=\"text-align: right;\">\n",
       "      <th></th>\n",
       "      <th>vehicle_year</th>\n",
       "      <th>mileage</th>\n",
       "      <th>engine_capacity</th>\n",
       "      <th>engine_power</th>\n",
       "      <th>damaged</th>\n",
       "      <th>rhd</th>\n",
       "      <th>target_price</th>\n",
       "    </tr>\n",
       "  </thead>\n",
       "  <tbody>\n",
       "    <tr>\n",
       "      <th>count</th>\n",
       "      <td>144802.000000</td>\n",
       "      <td>1.438350e+05</td>\n",
       "      <td>143285.000000</td>\n",
       "      <td>143694.000000</td>\n",
       "      <td>144802.000000</td>\n",
       "      <td>144802.000000</td>\n",
       "      <td>1.448020e+05</td>\n",
       "    </tr>\n",
       "    <tr>\n",
       "      <th>mean</th>\n",
       "      <td>2012.300907</td>\n",
       "      <td>7.655394e+05</td>\n",
       "      <td>1867.210978</td>\n",
       "      <td>151.457382</td>\n",
       "      <td>0.038929</td>\n",
       "      <td>0.003253</td>\n",
       "      <td>6.264079e+04</td>\n",
       "    </tr>\n",
       "    <tr>\n",
       "      <th>std</th>\n",
       "      <td>6.472215</td>\n",
       "      <td>2.389059e+08</td>\n",
       "      <td>711.385072</td>\n",
       "      <td>77.015990</td>\n",
       "      <td>0.193426</td>\n",
       "      <td>0.056940</td>\n",
       "      <td>8.647640e+04</td>\n",
       "    </tr>\n",
       "    <tr>\n",
       "      <th>min</th>\n",
       "      <td>1917.000000</td>\n",
       "      <td>1.000000e+00</td>\n",
       "      <td>400.000000</td>\n",
       "      <td>1.000000</td>\n",
       "      <td>0.000000</td>\n",
       "      <td>0.000000</td>\n",
       "      <td>6.000000e+02</td>\n",
       "    </tr>\n",
       "    <tr>\n",
       "      <th>25%</th>\n",
       "      <td>2008.000000</td>\n",
       "      <td>4.530000e+04</td>\n",
       "      <td>1461.000000</td>\n",
       "      <td>105.000000</td>\n",
       "      <td>0.000000</td>\n",
       "      <td>0.000000</td>\n",
       "      <td>1.790000e+04</td>\n",
       "    </tr>\n",
       "    <tr>\n",
       "      <th>50%</th>\n",
       "      <td>2013.000000</td>\n",
       "      <td>1.375000e+05</td>\n",
       "      <td>1798.000000</td>\n",
       "      <td>136.000000</td>\n",
       "      <td>0.000000</td>\n",
       "      <td>0.000000</td>\n",
       "      <td>3.590000e+04</td>\n",
       "    </tr>\n",
       "    <tr>\n",
       "      <th>75%</th>\n",
       "      <td>2017.000000</td>\n",
       "      <td>1.990000e+05</td>\n",
       "      <td>1997.000000</td>\n",
       "      <td>170.000000</td>\n",
       "      <td>0.000000</td>\n",
       "      <td>0.000000</td>\n",
       "      <td>7.490000e+04</td>\n",
       "    </tr>\n",
       "    <tr>\n",
       "      <th>max</th>\n",
       "      <td>2021.000000</td>\n",
       "      <td>9.060612e+10</td>\n",
       "      <td>8400.000000</td>\n",
       "      <td>1500.000000</td>\n",
       "      <td>1.000000</td>\n",
       "      <td>1.000000</td>\n",
       "      <td>5.250000e+06</td>\n",
       "    </tr>\n",
       "  </tbody>\n",
       "</table>\n",
       "</div>"
      ],
      "text/plain": [
       "        vehicle_year       mileage  engine_capacity   engine_power  \\\n",
       "count  144802.000000  1.438350e+05    143285.000000  143694.000000   \n",
       "mean     2012.300907  7.655394e+05      1867.210978     151.457382   \n",
       "std         6.472215  2.389059e+08       711.385072      77.015990   \n",
       "min      1917.000000  1.000000e+00       400.000000       1.000000   \n",
       "25%      2008.000000  4.530000e+04      1461.000000     105.000000   \n",
       "50%      2013.000000  1.375000e+05      1798.000000     136.000000   \n",
       "75%      2017.000000  1.990000e+05      1997.000000     170.000000   \n",
       "max      2021.000000  9.060612e+10      8400.000000    1500.000000   \n",
       "\n",
       "             damaged            rhd  target_price  \n",
       "count  144802.000000  144802.000000  1.448020e+05  \n",
       "mean        0.038929       0.003253  6.264079e+04  \n",
       "std         0.193426       0.056940  8.647640e+04  \n",
       "min         0.000000       0.000000  6.000000e+02  \n",
       "25%         0.000000       0.000000  1.790000e+04  \n",
       "50%         0.000000       0.000000  3.590000e+04  \n",
       "75%         0.000000       0.000000  7.490000e+04  \n",
       "max         1.000000       1.000000  5.250000e+06  "
      ]
     },
     "execution_count": 35,
     "metadata": {},
     "output_type": "execute_result"
    }
   ],
   "source": [
    "train_df.describe()"
   ]
  },
  {
   "cell_type": "markdown",
   "metadata": {},
   "source": [
    "### Rozkład zmiennej celu"
   ]
  },
  {
   "cell_type": "code",
   "execution_count": 36,
   "metadata": {},
   "outputs": [
    {
     "data": {
      "image/png": "[encoded data removed]",
      "text/plain": [
       "<Figure size 432x288 with 1 Axes>"
      ]
     },
     "metadata": {},
     "output_type": "display_data"
    }
   ],
   "source": [
    "sns.histplot(train_df['target_price'])\n",
    "plt.show()"
   ]
  },
  {
   "cell_type": "code",
   "execution_count": 15,
   "metadata": {},
   "outputs": [
    {
     "data": {
      "text/plain": [
       "['vehicle_year',\n",
       " 'mileage',\n",
       " 'engine_capacity',\n",
       " 'engine_power',\n",
       " 'damaged',\n",
       " 'rhd',\n",
       " 'target_price']"
      ]
     },
     "execution_count": 15,
     "metadata": {},
     "output_type": "execute_result"
    }
   ],
   "source": [
    "numeric_columns = train_df.select_dtypes('number').columns.to_list()\n",
    "numeric_columns"
   ]
  },
  {
   "cell_type": "code",
   "execution_count": 24,
   "metadata": {},
   "outputs": [
    {
     "data": {
      "text/plain": [
       "array([0., 1.])"
      ]
     },
     "execution_count": 24,
     "metadata": {},
     "output_type": "execute_result"
    }
   ],
   "source": [
    "train_df['rhd'].unique()"
   ]
  },
  {
   "cell_type": "code",
   "execution_count": 25,
   "metadata": {},
   "outputs": [
    {
     "data": {
      "text/plain": [
       "array([0., 1.])"
      ]
     },
     "execution_count": 25,
     "metadata": {},
     "output_type": "execute_result"
    }
   ],
   "source": [
    "train_df['damaged'].unique()"
   ]
  },
  {
   "cell_type": "markdown",
   "metadata": {},
   "source": [
    "Zmienne `rhd` i `damaged` to tak naprawdę zmienne kategoryczne"
   ]
  },
  {
   "cell_type": "code",
   "execution_count": 16,
   "metadata": {},
   "outputs": [
    {
     "data": {
      "text/plain": [
       "['make', 'model', 'gearbox', 'fuel_type']"
      ]
     },
     "execution_count": 16,
     "metadata": {},
     "output_type": "execute_result"
    }
   ],
   "source": [
    "categorical_columns = train_df.select_dtypes('object').columns.to_list()\n",
    "categorical_columns"
   ]
  },
  {
   "cell_type": "code",
   "execution_count": 37,
   "metadata": {},
   "outputs": [
    {
     "name": "stdout",
     "output_type": "stream",
     "text": [
      "make number of unique elements: 105\n",
      "model number of unique elements: 1104\n",
      "gearbox unique elements: ['automatic' 'manual' nan 'dual-clutch' 'cvt' 'semi-automatic'\n",
      " 'automatic-stepless' 'automatic-sequential' 'automated-manual'\n",
      " 'automatic-stepless-sequential' 'manual-sequential']\n",
      "fuel_type unique elements: ['petrol' 'diesel' 'petrol-lpg' 'electric' 'hybrid' 'petrol-cng']\n"
     ]
    }
   ],
   "source": [
    "for col in categorical_columns:\n",
    "    unique_vals = train_df[col].unique()\n",
    "    if len(unique_vals) < 20:\n",
    "        print(col, \"unique elements:\", unique_vals)\n",
    "    else:\n",
    "        print(col, \"number of unique elements:\", len(unique_vals))"
   ]
  },
  {
   "cell_type": "code",
   "execution_count": null,
   "metadata": {},
   "outputs": [],
   "source": [
    "# kodowanie marki i modeli: mało popularne -> 'Other' potem one hot\n",
    "# gearbox i fuel_type: onehot"
   ]
  }
 ],
 "metadata": {
  "interpreter": {
   "hash": "af39f1c9dedb501b8d174e567a1caad1cbb89bce10cf3b73618cc2163a5e6d14"
  },
  "kernelspec": {
   "display_name": "Python 3.10.4 ('olx')",
   "language": "python",
   "name": "python3"
  },
  "language_info": {
   "codemirror_mode": {
    "name": "ipython",
    "version": 3
   },
   "file_extension": ".py",
   "mimetype": "text/x-python",
   "name": "python",
   "nbconvert_exporter": "python",
   "pygments_lexer": "ipython3",
   "version": "3.10.4"
  },
  "orig_nbformat": 4
 },
 "nbformat": 4,
 "nbformat_minor": 2
}
